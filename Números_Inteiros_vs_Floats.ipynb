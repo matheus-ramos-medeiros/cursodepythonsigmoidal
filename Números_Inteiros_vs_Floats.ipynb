{
  "nbformat": 4,
  "nbformat_minor": 0,
  "metadata": {
    "colab": {
      "name": "Números: Inteiros vs Floats.ipynb",
      "provenance": [],
      "collapsed_sections": [],
      "include_colab_link": true
    },
    "kernelspec": {
      "name": "python3",
      "display_name": "Python 3"
    }
  },
  "cells": [
    {
      "cell_type": "markdown",
      "metadata": {
        "id": "view-in-github",
        "colab_type": "text"
      },
      "source": [
        "<a href=\"https://colab.research.google.com/github/matheus-ramos-medeiros/cursodepythonsigmoidal/blob/main/N%C3%BAmeros_Inteiros_vs_Floats.ipynb\" target=\"_parent\"><img src=\"https://colab.research.google.com/assets/colab-badge.svg\" alt=\"Open In Colab\"/></a>"
      ]
    },
    {
      "cell_type": "markdown",
      "metadata": {
        "id": "5sWZ2auRITdD"
      },
      "source": [
        "<img alt=\"Colaboratory logo\" width=\"15%\" src=\"https://raw.githubusercontent.com/carlosfab/escola-data-science/master/img/novo_logo_bg_claro.png\">\n",
        "\n",
        "#### **Python do Zero**\n",
        "*by [sigmoidal.ai](https://sigmoidal.ai)*\n",
        "\n",
        "---\n",
        "\n",
        "##Inteiros e Floats\n",
        "\n",
        "Os números inteiros (como 5, 4, 33) são do tipo `int`, enquanto aqueles números que carregam uma parte fracional (como 5.5, 3.33, 3.14, 5.0) são do tipo `float`. No começo, lidar com tipos de números pode ser confuso, mas a prática vai fazer você entender.\n",
        "\n",
        "Para saber o tipo de uma variável, você pode usar a função `type`.\n",
        "\n",
        "<center><img width=\"45%\" src=\"https://image.freepik.com/free-photo/blackboard-inscribed-with-scientific-formulas-calculations_1150-19413.jpg\n",
        "\"></center>\n"
      ]
    },
    {
      "cell_type": "markdown",
      "metadata": {
        "id": "mmPSR5XBXk-m"
      },
      "source": [
        "No primeiro exemplo, vemos que o número 5 não possui parte fracional, por isso, é um inteiro."
      ]
    },
    {
      "cell_type": "code",
      "metadata": {
        "id": "BOXAIT6WIerI",
        "outputId": "16ad7427-5be1-4111-b290-23382b888421",
        "colab": {
          "base_uri": "https://localhost:8080/",
          "height": 35
        }
      },
      "source": [
        "# verificando o tipo. Aqui, o 5 é inteiro.\n",
        "type(5) "
      ],
      "execution_count": null,
      "outputs": [
        {
          "output_type": "execute_result",
          "data": {
            "text/plain": [
              "int"
            ]
          },
          "metadata": {
            "tags": []
          },
          "execution_count": 1
        }
      ]
    },
    {
      "cell_type": "markdown",
      "metadata": {
        "id": "Do9sJwX3Xtj1"
      },
      "source": [
        "Quando adicionamos uma parte fracional, o número se torna um `float`."
      ]
    },
    {
      "cell_type": "code",
      "metadata": {
        "id": "b0K51PcpIqht",
        "outputId": "3abd3b54-8e5e-49a4-da1d-180beee9473a",
        "colab": {
          "base_uri": "https://localhost:8080/",
          "height": 35
        }
      },
      "source": [
        "# a variável abc representa o número 44.44, que tem parte fracional, portanto, float.\n",
        "abc = 44.44\n",
        "type(abc)"
      ],
      "execution_count": null,
      "outputs": [
        {
          "output_type": "execute_result",
          "data": {
            "text/plain": [
              "float"
            ]
          },
          "metadata": {
            "tags": []
          },
          "execution_count": 2
        }
      ]
    },
    {
      "cell_type": "markdown",
      "metadata": {
        "id": "L5D8QoV3X60R"
      },
      "source": [
        "Caso adicionemos parte fracional ao nosso 5 (`int`), ele passa a ser um `float`, mesmo que a parte fracional seja 0."
      ]
    },
    {
      "cell_type": "code",
      "metadata": {
        "id": "uHeeZGrLIrnq",
        "outputId": "328e8963-ac36-41fc-9481-8b641bdf32cd",
        "colab": {
          "base_uri": "https://localhost:8080/",
          "height": 35
        }
      },
      "source": [
        "# aqui o 5.0 é um float.\n",
        "type(5.0)"
      ],
      "execution_count": null,
      "outputs": [
        {
          "output_type": "execute_result",
          "data": {
            "text/plain": [
              "float"
            ]
          },
          "metadata": {
            "tags": []
          },
          "execution_count": 3
        }
      ]
    },
    {
      "cell_type": "markdown",
      "metadata": {
        "id": "uQPd4cb2YJlz"
      },
      "source": [
        "Em mais um exemplo podemos ver que pi é um número com parte fracional, portanto, `float`."
      ]
    },
    {
      "cell_type": "code",
      "metadata": {
        "id": "rpxJyY1DIscO",
        "outputId": "9203c804-d985-4e43-b800-3d0faf693aa4",
        "colab": {
          "base_uri": "https://localhost:8080/",
          "height": 35
        }
      },
      "source": [
        "pi = 3.14\n",
        "type(pi)"
      ],
      "execution_count": null,
      "outputs": [
        {
          "output_type": "execute_result",
          "data": {
            "text/plain": [
              "float"
            ]
          },
          "metadata": {
            "tags": []
          },
          "execution_count": 4
        }
      ]
    },
    {
      "cell_type": "markdown",
      "metadata": {
        "id": "IVUN-7zZYluI"
      },
      "source": [
        "Na documentação oficial do Python encontramos que ao fazer a divisão de números inteiros, temos por resultado um número `float`, mesmo que a divisão seja inteira."
      ]
    },
    {
      "cell_type": "code",
      "metadata": {
        "id": "sgZw4KvSIt0_",
        "outputId": "d8b9bbeb-b88a-4acf-cd9d-8d95dadd65bf",
        "colab": {
          "base_uri": "https://localhost:8080/",
          "height": 53
        }
      },
      "source": [
        "# divisão de inteiros\n",
        "y = 3 / 3\n",
        "print(y)\n",
        "type(y)"
      ],
      "execution_count": null,
      "outputs": [
        {
          "output_type": "stream",
          "text": [
            "1.0\n"
          ],
          "name": "stdout"
        },
        {
          "output_type": "execute_result",
          "data": {
            "text/plain": [
              "float"
            ]
          },
          "metadata": {
            "tags": []
          },
          "execution_count": 5
        }
      ]
    },
    {
      "cell_type": "code",
      "metadata": {
        "id": "dfAPXlqXIu-g",
        "outputId": "0070183e-d100-4a2c-9945-c623fd7adea4",
        "colab": {
          "base_uri": "https://localhost:8080/",
          "height": 71
        }
      },
      "source": [
        "# uma divisão SEMPRE vai retornar um float como resultado\n",
        "print(type(3 / 3))\n",
        "print(type(10.0 / 5))\n",
        "print(type(10.0 / 2.0))"
      ],
      "execution_count": null,
      "outputs": [
        {
          "output_type": "stream",
          "text": [
            "<class 'float'>\n",
            "<class 'float'>\n",
            "<class 'float'>\n"
          ],
          "name": "stdout"
        }
      ]
    },
    {
      "cell_type": "markdown",
      "metadata": {
        "id": "1KpYHK8dIwO-"
      },
      "source": [
        "Existem momentos em que você vai querer converter um `float` em `int`. Isso pode ser feito com `int()`. O mesmo vale para a operação contrário, bastando indicar a variável dentro dos parênteses."
      ]
    },
    {
      "cell_type": "code",
      "metadata": {
        "id": "B4-evh-ZIyzs",
        "outputId": "51402e67-740d-48c8-ed37-2dd8425fd297",
        "colab": {
          "base_uri": "https://localhost:8080/",
          "height": 35
        }
      },
      "source": [
        "idade = 35.00\n",
        "type(idade)"
      ],
      "execution_count": null,
      "outputs": [
        {
          "output_type": "execute_result",
          "data": {
            "text/plain": [
              "float"
            ]
          },
          "metadata": {
            "tags": []
          },
          "execution_count": 7
        }
      ]
    },
    {
      "cell_type": "code",
      "metadata": {
        "id": "ttXnxK28I0YO",
        "outputId": "0a6d3551-cf84-469e-c834-a826a678b532",
        "colab": {
          "base_uri": "https://localhost:8080/",
          "height": 35
        }
      },
      "source": [
        "# converter\n",
        "idade = int(idade)\n",
        "type(idade)"
      ],
      "execution_count": null,
      "outputs": [
        {
          "output_type": "execute_result",
          "data": {
            "text/plain": [
              "int"
            ]
          },
          "metadata": {
            "tags": []
          },
          "execution_count": 10
        }
      ]
    },
    {
      "cell_type": "code",
      "metadata": {
        "id": "Z4h-aj4rI2lY",
        "outputId": "4a8f4322-f2ef-49f5-b9ed-2e7626855bd0",
        "colab": {
          "base_uri": "https://localhost:8080/",
          "height": 35
        }
      },
      "source": [
        "float(3)"
      ],
      "execution_count": null,
      "outputs": [
        {
          "output_type": "execute_result",
          "data": {
            "text/plain": [
              "3.0"
            ]
          },
          "metadata": {
            "tags": []
          },
          "execution_count": 11
        }
      ]
    },
    {
      "cell_type": "markdown",
      "metadata": {
        "id": "0TzMUj6xI3lY"
      },
      "source": [
        "Existe ainda uma opção quando eu quero realizar uma divisão, porém quero ficar apenas com a parte inteira de um número, descartando toda a parte fracionária. Essa operação pode ser feita usando `//`."
      ]
    },
    {
      "cell_type": "code",
      "metadata": {
        "id": "vodOe_VNI5k2",
        "outputId": "6a8167dd-0c62-425f-fb54-baad413a8c11",
        "colab": {
          "base_uri": "https://localhost:8080/",
          "height": 53
        }
      },
      "source": [
        "print(11 / 3)  # divisão normal com /\n",
        "print(11 // 3) # divisão usando //"
      ],
      "execution_count": null,
      "outputs": [
        {
          "output_type": "stream",
          "text": [
            "3.6666666666666665\n",
            "3\n"
          ],
          "name": "stdout"
        }
      ]
    },
    {
      "cell_type": "markdown",
      "metadata": {
        "id": "9Hvlr-1HcquF"
      },
      "source": [
        "## Exercícios\n",
        "\n",
        "Agora que vimos um pouco mais sobre inteiros e floats, vamos praticar um pouco.\n",
        "\n",
        "<center><img width=\"40%\" src=\"https://image.freepik.com/free-photo/business-women-signature-document_1388-90.jpg\n",
        "\"></center>"
      ]
    },
    {
      "cell_type": "markdown",
      "metadata": {
        "id": "qGH4BlbEe9Ut"
      },
      "source": [
        "#### Exercício 1\n",
        "Transforme o resultado a divisão de inteiros em inteiro.\n",
        "\n",
        "$$\n",
        "\\begin{aligned}\n",
        "x & = 25 / 5\n",
        "\\end{aligned}\n",
        "$$"
      ]
    },
    {
      "cell_type": "code",
      "metadata": {
        "id": "mCopQuIOcSoC"
      },
      "source": [
        "# resposta\n"
      ],
      "execution_count": null,
      "outputs": []
    },
    {
      "cell_type": "code",
      "metadata": {
        "id": "DcQqM81MhT60",
        "cellView": "form"
      },
      "source": [
        "#@title Solução\n",
        "x = 25/5\n",
        "print('Resultado como float: ', x)\n",
        "print('Tipo: ', type(x))\n",
        "#transformando em int\n",
        "x = int(x)\n",
        "print('Resultado como integer: ', x)\n",
        "print('Tipo: ', type(x))"
      ],
      "execution_count": null,
      "outputs": []
    },
    {
      "cell_type": "markdown",
      "metadata": {
        "id": "Rl3RIqLkic6f"
      },
      "source": [
        "#### Exercício 2\n",
        "Use a função `type()` para descobrir os tipos das seguintes variáveis:"
      ]
    },
    {
      "cell_type": "code",
      "metadata": {
        "id": "lkgNPyX3iqM4"
      },
      "source": [
        "# variáveis\n",
        "x = 33\n",
        "y = 33/3\n",
        "z = 33.5"
      ],
      "execution_count": null,
      "outputs": []
    },
    {
      "cell_type": "code",
      "metadata": {
        "id": "yCWRX2fIlEfN"
      },
      "source": [
        "# resposta\n"
      ],
      "execution_count": null,
      "outputs": []
    },
    {
      "cell_type": "code",
      "metadata": {
        "id": "ddDmJbpth06P",
        "cellView": "form"
      },
      "source": [
        "#@title Solução\n",
        "print(type(x))\n",
        "print(type(y))\n",
        "print(type(z))"
      ],
      "execution_count": null,
      "outputs": []
    },
    {
      "cell_type": "markdown",
      "metadata": {
        "id": "DN10x95sk5d9"
      },
      "source": [
        "#### Exercício 3\n",
        "Usando as variáveis do exercício anterior, transforme todas elas em `int`."
      ]
    },
    {
      "cell_type": "code",
      "metadata": {
        "id": "4QQUchCTlYVG"
      },
      "source": [
        "# resposta\n"
      ],
      "execution_count": null,
      "outputs": []
    },
    {
      "cell_type": "code",
      "metadata": {
        "id": "eeq1gh-Mkx8V",
        "cellView": "form"
      },
      "source": [
        "#@title Solução\n",
        "x = int(x)\n",
        "y = int(y)\n",
        "z = int(z)\n",
        "\n",
        "# conferindo os tipos\n",
        "print(type(x))\n",
        "print(type(y))\n",
        "print(type(z))"
      ],
      "execution_count": null,
      "outputs": []
    },
    {
      "cell_type": "markdown",
      "metadata": {
        "id": "O-bubRqplXrU"
      },
      "source": [
        "#### Exercício 3\n",
        "Usando as variáveis do exercício anterior, transforme todas elas em `float`."
      ]
    },
    {
      "cell_type": "code",
      "metadata": {
        "id": "lkKomdl4lhKE"
      },
      "source": [
        "# resposta\n"
      ],
      "execution_count": null,
      "outputs": []
    },
    {
      "cell_type": "code",
      "metadata": {
        "id": "sfcdCbJBlDe8",
        "cellView": "form"
      },
      "source": [
        "#@title Solução\n",
        "x = float(x)\n",
        "y = float(y)\n",
        "z = float(z)\n",
        "\n",
        "# conferindo os tipos\n",
        "print(type(x))\n",
        "print(type(y))\n",
        "print(type(z))"
      ],
      "execution_count": null,
      "outputs": []
    },
    {
      "cell_type": "code",
      "metadata": {
        "id": "9BxBW7Fjld8k"
      },
      "source": [
        ""
      ],
      "execution_count": null,
      "outputs": []
    }
  ]
}