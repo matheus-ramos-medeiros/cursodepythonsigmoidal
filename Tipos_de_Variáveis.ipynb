{
  "nbformat": 4,
  "nbformat_minor": 0,
  "metadata": {
    "colab": {
      "name": "Tipos de Variáveis",
      "provenance": [],
      "collapsed_sections": [],
      "include_colab_link": true
    },
    "kernelspec": {
      "name": "python3",
      "display_name": "Python 3"
    }
  },
  "cells": [
    {
      "cell_type": "markdown",
      "metadata": {
        "id": "view-in-github",
        "colab_type": "text"
      },
      "source": [
        "<a href=\"https://colab.research.google.com/github/matheus-ramos-medeiros/cursodepythonsigmoidal/blob/main/Tipos_de_Vari%C3%A1veis.ipynb\" target=\"_parent\"><img src=\"https://colab.research.google.com/assets/colab-badge.svg\" alt=\"Open In Colab\"/></a>"
      ]
    },
    {
      "cell_type": "markdown",
      "metadata": {
        "id": "m3Xn_3hAFRmx"
      },
      "source": [
        "<img alt=\"Colaboratory logo\" width=\"15%\" src=\"https://raw.githubusercontent.com/carlosfab/escola-data-science/master/img/novo_logo_bg_claro.png\">\n",
        "\n",
        "#### **Python do Zero**\n",
        "*by [sigmoidal.ai](https://sigmoidal.ai)*\n",
        "\n",
        "---\n",
        "\n",
        "## Variáveis em Python\n",
        "\n",
        "<center><img alt=\"Tipos\" width=\"40%\" src=\"https://image.freepik.com/free-photo/top-view-different-types-tools_23-2148428335.jpg\"></center>\n",
        "\n",
        "Em Python, podemos associar valores a variáveis, para que sejam armazenados e facilmente acessados ao longo do seu código.\n",
        "\n",
        "Pense na variável como um \"nome\" para o objeto que estamos manipulando.\n",
        "\n",
        "Diferente de outras linguagens, as variáveis não precisam ser definidas anteriormente, podemos criá-las no momento da associação\n",
        "\n",
        "Para associarmos um valor a uma variáveis, basta usar o operador que indica associação `=`. \n"
      ]
    },
    {
      "cell_type": "code",
      "metadata": {
        "id": "fX7onpEQHcCk"
      },
      "source": [
        "# associando o número 300 à variável x\n",
        "x = 300"
      ],
      "execution_count": null,
      "outputs": []
    },
    {
      "cell_type": "markdown",
      "metadata": {
        "id": "YFg9LSbqHjjE"
      },
      "source": [
        "Após associarmos o valor 300 à variável `x`, podemos acessá-la utilizando a mesma, ou mesmo a função `print`."
      ]
    },
    {
      "cell_type": "code",
      "metadata": {
        "id": "M2LFABc3Hb_y",
        "outputId": "80b4b46b-2e6e-418c-d5f5-9ea52a10c995",
        "colab": {
          "base_uri": "https://localhost:8080/",
          "height": 34
        }
      },
      "source": [
        "# chamando a variável diretamente\n",
        "x"
      ],
      "execution_count": null,
      "outputs": [
        {
          "output_type": "execute_result",
          "data": {
            "text/plain": [
              "300"
            ]
          },
          "metadata": {
            "tags": []
          },
          "execution_count": 2
        }
      ]
    },
    {
      "cell_type": "code",
      "metadata": {
        "id": "4aYbvdJzGJxR",
        "outputId": "4c519e5d-8f7b-4ab3-8e2f-e61c11b8481e",
        "colab": {
          "base_uri": "https://localhost:8080/",
          "height": 34
        }
      },
      "source": [
        "# imprimindo a variável com print\n",
        "print(x)"
      ],
      "execution_count": null,
      "outputs": [
        {
          "output_type": "stream",
          "text": [
            "300\n"
          ],
          "name": "stdout"
        }
      ]
    },
    {
      "cell_type": "markdown",
      "metadata": {
        "id": "Unb_PdTxIVNR"
      },
      "source": [
        "Também podemos associar um novo valor a essa variável, para que a partir desse momento, ela assuma um novo valor."
      ]
    },
    {
      "cell_type": "code",
      "metadata": {
        "id": "YSClLFSAH3Ca",
        "outputId": "f9ac58bd-65c8-4a3c-f074-ec2d31f2f8b0",
        "colab": {
          "base_uri": "https://localhost:8080/",
          "height": 51
        }
      },
      "source": [
        "print(\"Valor inicial:\", x)\n",
        "\n",
        "# atribuir novo valor\n",
        "x = 100\n",
        "\n",
        "print(\"Valor novo:\", x)"
      ],
      "execution_count": null,
      "outputs": [
        {
          "output_type": "stream",
          "text": [
            "Valor inicial: 300\n",
            "Valor novo: 100\n"
          ],
          "name": "stdout"
        }
      ]
    },
    {
      "cell_type": "markdown",
      "metadata": {
        "id": "v2YuHg1iJlYS"
      },
      "source": [
        "## Tipos de Variáveis\n",
        "\n",
        "Além de utilizarmos `integers`, ou inteiros, podemos usar outros tipos de variáveis como `strings`, ou `floats`.\n",
        "\n",
        "Vamos ver na prática como isso fucniona."
      ]
    },
    {
      "cell_type": "markdown",
      "metadata": {
        "id": "82Dw7isSKSnG"
      },
      "source": [
        "### Integers\n",
        "Para utilizar inteiros, basta criar a variável como tal, sem valores decimais."
      ]
    },
    {
      "cell_type": "code",
      "metadata": {
        "id": "zX3CRTx6IfLV",
        "outputId": "a25fe00b-059a-40da-d971-5fa15b9dc5ab",
        "colab": {
          "base_uri": "https://localhost:8080/",
          "height": 34
        }
      },
      "source": [
        "# integers\n",
        "x = 50\n",
        "print(x)"
      ],
      "execution_count": null,
      "outputs": [
        {
          "output_type": "stream",
          "text": [
            "50\n"
          ],
          "name": "stdout"
        }
      ]
    },
    {
      "cell_type": "markdown",
      "metadata": {
        "id": "eF8QT6OFKdBF"
      },
      "source": [
        "### Floats\n",
        "Ao utilizar Floats, precisamos ter cuidado com uma detalhe. A vírgula, em Python, serve pra enumeração, e não para casas decimais.\n",
        "\n",
        "Para definir casas decimais, vamos utilizar o ponto `.`\n",
        "\n",
        "Para criar um float, basta associar à variável um número que possua casa decimal."
      ]
    },
    {
      "cell_type": "code",
      "metadata": {
        "id": "A7QseAg_J_vV",
        "outputId": "f8f5feca-cf45-4658-fc5b-0149151f05ce",
        "colab": {
          "base_uri": "https://localhost:8080/",
          "height": 34
        }
      },
      "source": [
        "# float\n",
        "x = 25.0\n",
        "print(x)"
      ],
      "execution_count": null,
      "outputs": [
        {
          "output_type": "stream",
          "text": [
            "25.0\n"
          ],
          "name": "stdout"
        }
      ]
    },
    {
      "cell_type": "markdown",
      "metadata": {
        "id": "T1gTB698LGfN"
      },
      "source": [
        "### Strings\n",
        "Strings são nossa linguagem natural, utilizando caracteres e palavras.\n",
        "\n",
        "Para criar strings, precisamos colocar nosso conteúdo entre aspas, simples ou duplas."
      ]
    },
    {
      "cell_type": "code",
      "metadata": {
        "id": "G_iJjopFKEDO",
        "outputId": "df66425f-9e88-4501-c143-ee2077a3a7c7",
        "colab": {
          "base_uri": "https://localhost:8080/",
          "height": 34
        }
      },
      "source": [
        "# string\n",
        "x = \"Data Science é a profissão mais sexy do mundo.\"\n",
        "print(x)"
      ],
      "execution_count": null,
      "outputs": [
        {
          "output_type": "stream",
          "text": [
            "Data Science é a profissão mais sexy do mundo.\n"
          ],
          "name": "stdout"
        }
      ]
    },
    {
      "cell_type": "markdown",
      "metadata": {
        "id": "WAbnkHfPLxNc"
      },
      "source": [
        "## Verificando o Tipo da Variável\n",
        "\n",
        "É claro que você vai sempre criar as variáveis da forma desejada, e seguindo os padrões para não encontrar erros ou problemas no seu código.\n",
        "\n",
        "Entretanto, não é incomum encontrarmos, por exemplo, números que estão em formato string, e por isso, se comportarão como tal, não permitindo operações matemáticas, por exemplo.\n",
        "\n",
        "Para que possamos descobrir o tipo das nossas variáveis, temos a função `type`."
      ]
    },
    {
      "cell_type": "code",
      "metadata": {
        "id": "u8kfv_-LKJTN",
        "outputId": "2073db6e-1a76-44cc-ddeb-3cd4a3d4cceb",
        "colab": {
          "base_uri": "https://localhost:8080/",
          "height": 51
        }
      },
      "source": [
        "# imprimindo a variável\n",
        "x = 100\n",
        "print(x)\n",
        "\n",
        "# verificando o tipo\n",
        "type(x)"
      ],
      "execution_count": null,
      "outputs": [
        {
          "output_type": "stream",
          "text": [
            "100\n"
          ],
          "name": "stdout"
        },
        {
          "output_type": "execute_result",
          "data": {
            "text/plain": [
              "int"
            ]
          },
          "metadata": {
            "tags": []
          },
          "execution_count": 8
        }
      ]
    },
    {
      "cell_type": "markdown",
      "metadata": {
        "id": "2yKM4SuiMlSK"
      },
      "source": [
        "### Criando Variáveis a Partir de Variáveis\n",
        "\n",
        "Também podemos criar cópias das variáveis, associando novas variáveis a ela.\n",
        "\n",
        "Isso nos permite explorar a variável sem alterar a original."
      ]
    },
    {
      "cell_type": "code",
      "metadata": {
        "id": "aZiPLduUMWft",
        "outputId": "1f06918e-d8da-4cb1-b3e3-f28e0e161f23",
        "colab": {
          "base_uri": "https://localhost:8080/",
          "height": 51
        }
      },
      "source": [
        "# criando uma variável através da variável original\n",
        "print(\"Variável x: \", x)\n",
        "\n",
        "y = x\n",
        "\n",
        "print(\"Variável y: \", y)"
      ],
      "execution_count": null,
      "outputs": [
        {
          "output_type": "stream",
          "text": [
            "Variável x:  100\n",
            "Variável y:  100\n"
          ],
          "name": "stdout"
        }
      ]
    },
    {
      "cell_type": "markdown",
      "metadata": {
        "id": "Qn61cCs7WrNn"
      },
      "source": [
        "Podemos fazer isso com qualquer tipo de variável.\n",
        "\n",
        "Também podemos criar a nova variável a partir de uma operação feita com a variável original."
      ]
    },
    {
      "cell_type": "code",
      "metadata": {
        "id": "lCeGxQJQWoWV",
        "outputId": "4c0601b5-5460-4a85-8088-1a53c82c39d2",
        "colab": {
          "base_uri": "https://localhost:8080/",
          "height": 34
        }
      },
      "source": [
        "# criando uma nova variável com operações\n",
        "x = 10\n",
        "\n",
        "y = x * 10\n",
        "\n",
        "print(y)"
      ],
      "execution_count": null,
      "outputs": [
        {
          "output_type": "stream",
          "text": [
            "100\n"
          ],
          "name": "stdout"
        }
      ]
    },
    {
      "cell_type": "markdown",
      "metadata": {
        "id": "EnPGkyAjZCeX"
      },
      "source": [
        "É importante entender que o relacionamento entre as duas acaba no momento da associação. \n",
        "\n",
        "Após isso, elas funcionam independentes uma da outra, portanto, alterações feitas em uma não afetam a outra."
      ]
    },
    {
      "cell_type": "code",
      "metadata": {
        "id": "Vcs6V2RJXYOy",
        "outputId": "1da88e47-364e-46a0-a7d6-0a32925b0ec9",
        "colab": {
          "base_uri": "https://localhost:8080/",
          "height": 204
        }
      },
      "source": [
        "# criando as variáveis\n",
        "print('Criando as Variáveis')\n",
        "x = 10\n",
        "\n",
        "y = x\n",
        "# resultado\n",
        "print('x:', x)\n",
        "print('y:', y)\n",
        "\n",
        "\n",
        "print('\\nTransformação x = y + 10')\n",
        "x = y + 10\n",
        "# resultado\n",
        "print ('Novo x:', x)\n",
        "print ('y:', y)\n",
        "\n",
        "\n",
        "print('\\nTransformação y = y/2')\n",
        "y = y/2\n",
        "\n",
        "# resultado\n",
        "print('x:', x)\n",
        "print('Novo y:', y)"
      ],
      "execution_count": null,
      "outputs": [
        {
          "output_type": "stream",
          "text": [
            "Criando as Variáveis\n",
            "x: 10\n",
            "y: 10\n",
            "\n",
            "Transformação x = y + 10\n",
            "Novo x: 20\n",
            "y: 10\n",
            "\n",
            "Transformação y = y/2\n",
            "x: 20\n",
            "Novo y: 5.0\n"
          ],
          "name": "stdout"
        }
      ]
    },
    {
      "cell_type": "markdown",
      "metadata": {
        "id": "S-6iuoT3aPsx"
      },
      "source": [
        "## Exercícios\n",
        "\n",
        "Agora, vamos testar nosso conhecimento sobre as variáveis.\n",
        "\n",
        "<center><img alt=\"Tipos\" width=\"40%\" src=\"https://image.freepik.com/free-photo/notebook-calculator-rubiks-cube-chalkboard_23-2147849672.jpg\"></center>"
      ]
    },
    {
      "cell_type": "markdown",
      "metadata": {
        "id": "lExb7DuqaaJK"
      },
      "source": [
        "#### Exercício 1\n",
        "\n",
        "Crie uma variável do tipo `integer`, chamada x, e associe a ela sua idade."
      ]
    },
    {
      "cell_type": "code",
      "metadata": {
        "id": "IXoyJX5jZrKK",
        "outputId": "3191e0ca-176d-4d52-c56e-d038ad70c1d1",
        "colab": {
          "base_uri": "https://localhost:8080/"
        }
      },
      "source": [
        "# resposta\n",
        "x = 22\n",
        "int(x)\n",
        "print (x)\n"
      ],
      "execution_count": 1,
      "outputs": [
        {
          "output_type": "stream",
          "text": [
            "22\n"
          ],
          "name": "stdout"
        }
      ]
    },
    {
      "cell_type": "code",
      "metadata": {
        "id": "HqyCczwUahSH",
        "cellView": "form"
      },
      "source": [
        "#@title Solução\n",
        "x = 36"
      ],
      "execution_count": 5,
      "outputs": []
    },
    {
      "cell_type": "markdown",
      "metadata": {
        "id": "RpC7_U1MavAS"
      },
      "source": [
        "#### Exercício 2\n",
        "\n",
        "Crie uma variável do tipo `float`, chamada y, e associe a ela o preço de uma barra de chocolate."
      ]
    },
    {
      "cell_type": "code",
      "metadata": {
        "id": "7w2Ldng8ar3p"
      },
      "source": [
        "# resposta\n"
      ],
      "execution_count": null,
      "outputs": []
    },
    {
      "cell_type": "code",
      "metadata": {
        "id": "3tk87CuPbJgu",
        "cellView": "form"
      },
      "source": [
        "#@title Solução\n",
        "y = 2.99"
      ],
      "execution_count": null,
      "outputs": []
    },
    {
      "cell_type": "markdown",
      "metadata": {
        "id": "sNmW-QU5bPpc"
      },
      "source": [
        "#### Exercício 3\n",
        "Crie uma variável do tipo `string`, chamada `nome` e associe a ela o seu nome."
      ]
    },
    {
      "cell_type": "code",
      "metadata": {
        "id": "qK_VecttbOVF"
      },
      "source": [
        "# resposta\n"
      ],
      "execution_count": null,
      "outputs": []
    },
    {
      "cell_type": "code",
      "metadata": {
        "id": "k95BQlXwbX2T",
        "cellView": "form"
      },
      "source": [
        "#@title Solução\n",
        "nome = \"Sigmoidal \""
      ],
      "execution_count": null,
      "outputs": []
    },
    {
      "cell_type": "markdown",
      "metadata": {
        "id": "sUWYLpJIcInn"
      },
      "source": [
        "#### Exercício 4\n",
        "\n",
        "Verifique o tipo das variáveis `x`, `y`, `nome`.\n",
        "\n",
        "Dica: A função print vai ajudar a fazer tudo em uma célula só."
      ]
    },
    {
      "cell_type": "code",
      "metadata": {
        "id": "_sEEXdzpbi5o"
      },
      "source": [
        "# resultado\n"
      ],
      "execution_count": null,
      "outputs": []
    },
    {
      "cell_type": "code",
      "metadata": {
        "id": "PWDlgK9Jcz5J",
        "cellView": "form"
      },
      "source": [
        "#@title Solução\n",
        "print('x:', type(x))\n",
        "print('y:', type(y))\n",
        "print('nome:', type(nome))"
      ],
      "execution_count": null,
      "outputs": []
    },
    {
      "cell_type": "markdown",
      "metadata": {
        "id": "B6U739zPdHLN"
      },
      "source": [
        "#### Exercício 5\n",
        "\n",
        "Crie uma variável que seja que calcule o ano em que você nasceu, utilizando operadores matemáticos e sua variável `x`."
      ]
    },
    {
      "cell_type": "code",
      "metadata": {
        "id": "Rt7ssCKGc754"
      },
      "source": [
        "# resultado\n"
      ],
      "execution_count": null,
      "outputs": []
    },
    {
      "cell_type": "code",
      "metadata": {
        "id": "2lG8xjrCdXyS",
        "cellView": "form"
      },
      "source": [
        "#@title Solução\n",
        "x = 2020 - x\n",
        "print(x)"
      ],
      "execution_count": null,
      "outputs": []
    },
    {
      "cell_type": "markdown",
      "metadata": {
        "id": "cpjLvuX0do0e"
      },
      "source": [
        "### Exercício 6\n",
        "\n",
        "Crie uma variável para o preço de 3 barras de chocolate, usando a variável `y`."
      ]
    },
    {
      "cell_type": "code",
      "metadata": {
        "id": "I2Qa6YsXdg-n"
      },
      "source": [
        "# resultado\n"
      ],
      "execution_count": null,
      "outputs": []
    },
    {
      "cell_type": "code",
      "metadata": {
        "id": "ModGVCTydxRv",
        "cellView": "form"
      },
      "source": [
        "#@title Solução\n",
        "y = y * 3\n",
        "print(y)"
      ],
      "execution_count": null,
      "outputs": []
    },
    {
      "cell_type": "markdown",
      "metadata": {
        "id": "aZs_vY3Cd4fK"
      },
      "source": [
        "### Exercício 7\n",
        "Crie uma variável que contenha o seu nome 10 vezes, utilizando a variável `nome`."
      ]
    },
    {
      "cell_type": "code",
      "metadata": {
        "id": "q84wpuDzd1XL"
      },
      "source": [
        "# resultado\n"
      ],
      "execution_count": null,
      "outputs": []
    },
    {
      "cell_type": "code",
      "metadata": {
        "id": "rIniv6jMeCrV",
        "cellView": "form"
      },
      "source": [
        "#@title Solução\n",
        "nome = 'Carlos'\n",
        "nome = nome * 10\n",
        "print(nome)"
      ],
      "execution_count": null,
      "outputs": []
    },
    {
      "cell_type": "code",
      "metadata": {
        "id": "cEWTrH0yeGVa"
      },
      "source": [
        ""
      ],
      "execution_count": null,
      "outputs": []
    }
  ]
}